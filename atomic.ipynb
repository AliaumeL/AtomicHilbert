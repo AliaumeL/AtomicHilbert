{
  "nbformat": 4,
  "nbformat_minor": 0,
  "metadata": {
    "colab": {
      "provenance": [],
      "authorship_tag": "ABX9TyM5BqfJAAInCELXEPAdWWZs",
      "include_colab_link": true
    },
    "kernelspec": {
      "name": "python3",
      "display_name": "Python 3"
    },
    "language_info": {
      "name": "python"
    }
  },
  "cells": [
    {
      "cell_type": "markdown",
      "metadata": {
        "id": "view-in-github",
        "colab_type": "text"
      },
      "source": [
        "<a href=\"https://colab.research.google.com/github/AliaumeL/AtomicHilbert/blob/main/atomic.ipynb\" target=\"_parent\"><img src=\"https://colab.research.google.com/assets/colab-badge.svg\" alt=\"Open In Colab\"/></a>"
      ]
    },
    {
      "cell_type": "code",
      "execution_count": 1,
      "metadata": {
        "id": "PIojp5z8TCbd"
      },
      "outputs": [],
      "source": [
        "from typing import Self, TypeVar, Generic, Callable, List\n",
        "from itertools import permutations, combinations\n",
        "from operator import itemgetter\n",
        "from fractions import Fraction\n",
        "from abc import ABC, abstractmethod\n",
        "from copy import deepcopy"
      ]
    },
    {
      "cell_type": "code",
      "source": [
        "class Atom:\n",
        "\n",
        "    # The method to check whether two tuples of atoms are in the same S orbit.\n",
        "    # The set S and the pair of tuples are input as a list.\n",
        "    @abstractmethod\n",
        "    def in_same_orbit(S,first_list,second_list): pass\n",
        "\n",
        "    # The method to compute a set of representatives of S orbits of ordered non-repeating n-tuples of atoms.\n",
        "    @abstractmethod\n",
        "    def rep_of_orbits(S,n): pass\n",
        "\n",
        "# The abstract class of effectively oligomorphic atoms with an effective order as a part of its structure.\n",
        "class Atom_with_order(Atom):\n",
        "\n",
        "    def __lt__(self,other): pass\n",
        "\n",
        "    # The effective order\n",
        "    @abstractmethod\n",
        "    def is_less_than(self,other): pass\n",
        "\n",
        "#todos\n",
        "# 1. Operations to build new structures of atoms from old one:\n",
        "#    a. Product\n",
        "#    b. Lexicographic product\n",
        "#\n",
        "# 2. Specific instances of structures of atoms:\n",
        "#    a. Equality\n",
        "#    b. Ordered\n",
        "#    c. Dense tree\n",
        "#    d. Random graph\n",
        "#    e. Finite sets with trivial automorphism group\n",
        "#\n",
        "# 3. Symbolic instantiation.\n",
        "#    That is, instead of instantiating concretely, we specify the relations between the atoms.\n",
        "#    There are two things to check:\n",
        "#    namely if the specific is consistent, i.e. it has a solution, and if the solution is unique upto orbits.\n",
        "#    This should be implemented at some point but maybe not immediatly.\n",
        "#    We should also have a differnt print for these.\n",
        "#\n",
        "#    This is not difficult theoretically.\n",
        "#    We just have to compute set of representatives and check if exactly one of them satisfy all the specifications\n",
        "\n",
        "# 4. Define homogeneous atoms as taking a class and relations on them as input. Write same_orbit abstractly.\n",
        "#    Put rep as abstract class\n",
        "#"
      ],
      "metadata": {
        "id": "vUgZNZgqh-5r"
      },
      "execution_count": 2,
      "outputs": []
    },
    {
      "cell_type": "code",
      "source": [
        "carrier = TypeVar('carrier')\n",
        "\n",
        "class Relation(Generic[carrier]):\n",
        "\n",
        "    def __init__(self,arity:int, rel : Callable[[list[carrier]],bool]):\n",
        "        self.arity = arity\n",
        "        self.rel   = rel\n",
        "\n",
        "    def eval(self,input:list[carrier]) -> bool:\n",
        "        if len(input) != self.arity :\n",
        "            raise ValueError(\"Arity of relation doesn't match length of the input list\")\n",
        "        else:\n",
        "            return self.relation(input)"
      ],
      "metadata": {
        "id": "7UZKDVeoiEUB"
      },
      "execution_count": 3,
      "outputs": []
    },
    {
      "cell_type": "code",
      "source": [
        "def from_indices(indices : list[int], input_list : list[carrier]) -> list[carrier]:\n",
        "    answer = []\n",
        "    for index in indices:\n",
        "        answer.append(input_list[index])\n",
        "    return answer"
      ],
      "metadata": {
        "id": "HbMLkiaqGNNI"
      },
      "execution_count": 4,
      "outputs": []
    },
    {
      "cell_type": "code",
      "source": [
        "class Homogeneous(Generic[carrier]):\n",
        "\n",
        "    def __init__(self,name : carrier):\n",
        "        self.name = name\n",
        "\n",
        "    def __eq__(self:Self, other:Self):\n",
        "        return (self.name == other.name)\n",
        "\n",
        "    def equality_rel(input_list : list[carrier]):\n",
        "        if len(input_list) != 2:\n",
        "            raise ValueError(\"equality_rel inputs a list of length 2\")\n",
        "        else:\n",
        "            return (input_list[0] == input_list[1])\n",
        "\n",
        "    def __str__(self) -> str:\n",
        "        return str(self.name)\n",
        "\n",
        "    relations = [Relation(2,equality_rel)]\n",
        "\n",
        "    @staticmethod\n",
        "    def in_same_equiv_orbit(first_list : list[carrier], second_list : list) -> bool:\n",
        "        if len(first_list) != len(second_list):\n",
        "            return False\n",
        "        else:\n",
        "            answer = True\n",
        "            n = len(first_list)\n",
        "            for relation in __class__.relations:\n",
        "                for pre_indices in list(permutations(range(n),relation.arity)):\n",
        "                    indices = list(pre_indices)\n",
        "                    if (relation.rel(from_indices(indices,first_list)) !=\n",
        "                        relation.rel(from_indices(indices,second_list))):\n",
        "                        answer = False\n",
        "            return answer\n",
        "\n",
        "    @staticmethod\n",
        "    def in_same_orbit(support: list[carrier],first_list : list[carrier], second_list : list) -> bool:\n",
        "        return __class__.in_same_equiv_orbit(support + first_list,support + second_list)\n",
        "\n",
        "    @staticmethod\n",
        "    @abstractmethod\n",
        "    def rep_of_orbits(S,n): pass"
      ],
      "metadata": {
        "id": "DVPDgoBDVY6J"
      },
      "execution_count": 5,
      "outputs": []
    },
    {
      "cell_type": "code",
      "source": [
        "class Equality_atom(Homogeneous[str]):\n",
        "\n",
        "    def __str__(self):\n",
        "        return self.name\n",
        "\n",
        "    def __repr__(self):\n",
        "        return self.name\n",
        "\n",
        "    @staticmethod\n",
        "    def rep_of_orbits(support : list[Self], n : int):\n",
        "        list1 : list[Self] = [Equality_atom(\"a\"+str(k)) for k in range(1,(n + len(support) + 1))]\n",
        "        list2 : list[Self] =  [a for a in list1 if a not in support]\n",
        "        n_new_atoms = list2[:n]\n",
        "        place_for_supp = []\n",
        "        for k in range(max(n,len(support))+1):\n",
        "            place_for_supp += list(permutations(range(n), k))\n",
        "        answer = []\n",
        "\n",
        "        for places in place_for_supp:\n",
        "          for from_support in list(permutations(support,len(places))):\n",
        "            to_add = deepcopy(n_new_atoms)\n",
        "            for i in range(len(places)):\n",
        "              to_add[places[i]] = from_support[i]\n",
        "            if to_add not in answer:\n",
        "              answer.append(to_add)\n",
        "        return answer\n",
        "\n",
        "# the above code is highly inefficient\n",
        "# better to have method for S-orbits inside (A\\S)^(n) and use it for inside S-orbits inside A^(n)\n",
        "# Same for sets. This would be more efficient and anyway for ordered we need for sets"
      ],
      "metadata": {
        "id": "NwANLKokVhyZ"
      },
      "execution_count": 6,
      "outputs": []
    },
    {
      "cell_type": "code",
      "source": [
        "a : Equality_atom = Equality_atom(\"a\")\n",
        "b : Equality_atom = Equality_atom(\"b\")\n",
        "c : Equality_atom = Equality_atom(\"c\")\n",
        "len(Equality_atom.rep_of_orbits([a,b,c],1))"
      ],
      "metadata": {
        "colab": {
          "base_uri": "https://localhost:8080/"
        },
        "id": "C-5WX7EPVkyn",
        "outputId": "37b15f1f-3e33-4f54-c0a2-afee106a87fc"
      },
      "execution_count": 7,
      "outputs": [
        {
          "output_type": "execute_result",
          "data": {
            "text/plain": [
              "4"
            ]
          },
          "metadata": {},
          "execution_count": 7
        }
      ]
    },
    {
      "cell_type": "code",
      "source": [
        "class DLO_atom(Homogeneous[Fraction]):\n",
        "\n",
        "  def __str__(self):\n",
        "    return str(self.name)\n",
        "\n",
        "  def __repr__(self):\n",
        "        return self.name\n",
        "\n",
        "  def __lt__(self,other):\n",
        "    return (self.name < other.name)\n",
        "\n",
        "  @staticmethod\n",
        "  def order(input_list:list[Fraction]):\n",
        "    if len(input_list) != 2:\n",
        "      raise ValueError(\"order inputs a list of length 2\")\n",
        "    else:\n",
        "      return (input_list[0] < input_list[1])\n",
        "\n",
        "  relations = Homogeneous.relations + [Relation(2,order)]"
      ],
      "metadata": {
        "colab": {
          "base_uri": "https://localhost:8080/"
        },
        "id": "H7hZL761BZ20",
        "outputId": "33fb6fe3-6eb3-441d-ec87-33c0f3d88d22"
      },
      "execution_count": 11,
      "outputs": [
        {
          "output_type": "stream",
          "name": "stdout",
          "text": [
            "[<__main__.Relation object at 0x7d56c5cf9350>, <__main__.Relation object at 0x7d56b10cc810>]\n"
          ]
        }
      ]
    },
    {
      "cell_type": "code",
      "source": [
        "a = DLO_atom(1)\n",
        "b = DLO_atom(2)\n",
        "c = DLO_atom(3)\n",
        "DLO_atom.in_same_orbit([b],[a],[c])"
      ],
      "metadata": {
        "colab": {
          "base_uri": "https://localhost:8080/"
        },
        "id": "BCg9THYhDpFF",
        "outputId": "2cd5f32f-1009-4d03-da31-278cf075d8e7"
      },
      "execution_count": 9,
      "outputs": [
        {
          "output_type": "execute_result",
          "data": {
            "text/plain": [
              "True"
            ]
          },
          "metadata": {},
          "execution_count": 9
        }
      ]
    }
  ]
}